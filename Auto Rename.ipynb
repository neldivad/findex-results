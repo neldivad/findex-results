{
 "cells": [
  {
   "cell_type": "code",
   "execution_count": 1,
   "metadata": {},
   "outputs": [],
   "source": [
    "def rename_files_in_folder(folder, suffix_to_add):\n",
    "    '''\n",
    "    folder = enter a string version of the folder's name. \n",
    "    suffix = enter a string of what you want to append to the very end of each file.\n",
    "    '''\n",
    "    from pathlib import Path\n",
    "    \n",
    "    our_files = Path(folder)\n",
    "    \n",
    "    for file in our_files.iterdir():\n",
    "        # Set up key variables for the parent path and the file extensions\n",
    "        directory = file.parent\n",
    "        extension = file.suffix\n",
    "\n",
    "        ####\n",
    "        old_name = file.stem\n",
    "\n",
    "        #####\n",
    "        new_name = f'{old_name}{suffix_to_add}{extension}'\n",
    "\n",
    "        # Rename the file\n",
    "        file.rename(Path(directory, new_name))    "
   ]
  },
  {
   "cell_type": "code",
   "execution_count": 25,
   "metadata": {},
   "outputs": [],
   "source": [
    "# rename_files_in_folder(\n",
    "#     'C:/Users/User/Desktop/finclusion resources/2011/SSAfr',\n",
    "#     '-SSAfr-2011'\n",
    "# )"
   ]
  },
  {
   "cell_type": "code",
   "execution_count": 10,
   "metadata": {},
   "outputs": [],
   "source": [
    "# undo_rename_files_in_folder(\n",
    "#     'C:/Users/User/Desktop/finclusion resources/2017/SAsia',\n",
    "#     'SAsia-2017'\n",
    "# )"
   ]
  },
  {
   "cell_type": "code",
   "execution_count": 71,
   "metadata": {},
   "outputs": [],
   "source": [
    "# rename_files_in_folder(\n",
    "#     'C:/Users/User/Desktop/finclusion resources/region trend/with_act/gap_true',\n",
    "#     '-wa-gap'\n",
    "# )"
   ]
  },
  {
   "cell_type": "code",
   "execution_count": null,
   "metadata": {},
   "outputs": [],
   "source": []
  }
 ],
 "metadata": {
  "kernelspec": {
   "display_name": "Python 3",
   "language": "python",
   "name": "python3"
  },
  "language_info": {
   "codemirror_mode": {
    "name": "ipython",
    "version": 3
   },
   "file_extension": ".py",
   "mimetype": "text/x-python",
   "name": "python",
   "nbconvert_exporter": "python",
   "pygments_lexer": "ipython3",
   "version": "3.8.5"
  }
 },
 "nbformat": 4,
 "nbformat_minor": 4
}
